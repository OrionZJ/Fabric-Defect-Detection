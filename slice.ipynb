{
 "cells": [
  {
   "cell_type": "code",
   "execution_count": 1,
   "id": "2c19f597-8ca8-48b1-9c2d-ff670d1dc882",
   "metadata": {
    "execution": {
     "iopub.execute_input": "2023-08-11T01:56:19.810284Z",
     "iopub.status.busy": "2023-08-11T01:56:19.809469Z",
     "iopub.status.idle": "2023-08-11T01:56:22.259246Z",
     "shell.execute_reply": "2023-08-11T01:56:22.258282Z",
     "shell.execute_reply.started": "2023-08-11T01:56:19.810253Z"
    },
    "scrolled": true
   },
   "outputs": [
    {
     "name": "stdout",
     "output_type": "stream",
     "text": [
      "loading annotations into memory...\r\n",
      "Done (t=0.04s)\r\n",
      "creating index...\r\n",
      "index created!\r\n",
      "100%|███████████████████████████████████| 6955/6955 [00:00<00:00, 106408.98it/s]\r\n",
      "Suggested reg_range[1] is 21\r\n",
      "Mean of all img_w is 2446.0\r\n",
      "Mean of all img_h is 1000.0\r\n",
      "Median of ratio_w is 0.014736304170073619\r\n",
      "Median of ratio_h is 0.12641500000000003\r\n",
      "all_img with box:  4290\r\n",
      "all_ann:  6955\r\n",
      "Distribution saved as box_distribution.jpg\r\n",
      "Figure(640x480)\r\n"
     ]
    }
   ],
   "source": [
    "!python tools/box_distribution.py --json_path /home/aistudio/PaddleDetection/dataset/coco/annotations/instances_train2017.json --out_img box_distribution.jpg --eval_size 640 --small_stride 8"
   ]
  },
  {
   "cell_type": "code",
   "execution_count": 1,
   "id": "f91e772d-1ab3-4a2f-89e0-a2e672d8a3d5",
   "metadata": {
    "execution": {
     "iopub.execute_input": "2023-08-11T06:50:36.385013Z",
     "iopub.status.busy": "2023-08-11T06:50:36.384315Z",
     "iopub.status.idle": "2023-08-11T07:00:37.382635Z",
     "shell.execute_reply": "2023-08-11T07:00:37.381653Z",
     "shell.execute_reply.started": "2023-08-11T06:50:36.384966Z"
    },
    "scrolled": true,
    "tags": []
   },
   "outputs": [
    {
     "name": "stdout",
     "output_type": "stream",
     "text": [
      " slicing for slice_size=640, overlap_ratio=0.25\r\n",
      "Slicing step is starting...\r\n",
      "indexing coco dataset annotations...\r\n",
      "Loading coco annotations: 100%|███████████| 4290/4290 [00:00<00:00, 8632.60it/s]\r\n",
      "100%|███████████████████████████████████████| 4290/4290 [08:55<00:00,  8.01it/s]\r\n",
      "Sliced dataset for 'slice_size: 640' is exported to /home/aistudio/PaddleDetection/dataset/coco_sliced\r\n",
      " slicing for slice_size=640, overlap_ratio=0.25\r\n",
      "Slicing step is starting...\r\n",
      "indexing coco dataset annotations...\r\n",
      "Loading coco annotations: 100%|█████████████| 484/484 [00:00<00:00, 8146.50it/s]\r\n",
      "100%|█████████████████████████████████████████| 484/484 [00:59<00:00,  8.07it/s]\r\n",
      "Sliced dataset for 'slice_size: 640' is exported to /home/aistudio/PaddleDetection/dataset/coco_sliced\r\n"
     ]
    }
   ],
   "source": [
    "# 对训练集标注进行切图\r\n",
    "!python tools/slice_image.py --image_dir /home/aistudio/PaddleDetection/dataset/coco/train2017 --json_path /home/aistudio/PaddleDetection/dataset/coco/annotations/instances_train2017.json --output_dir /home/aistudio/PaddleDetection/dataset/coco_sliced --slice_size 640 --overlap_ratio 0.25\r\n",
    "\r\n",
    "# 对验证集标注进行切图\r\n",
    "!python tools/slice_image.py --image_dir /home/aistudio/PaddleDetection/dataset/coco/val2017 --json_path /home/aistudio/PaddleDetection/dataset/coco/annotations/instances_val2017.json --output_dir /home/aistudio/PaddleDetection/dataset/coco_sliced --slice_size 640 --overlap_ratio 0.25"
   ]
  },
  {
   "cell_type": "code",
   "execution_count": null,
   "id": "db798872-435f-48a6-93dc-0ce4dea2b49f",
   "metadata": {
    "scrolled": true
   },
   "outputs": [],
   "source": []
  }
 ],
 "metadata": {
  "kernelspec": {
   "display_name": "Python 3",
   "language": "python",
   "name": "py35-paddle1.2.0"
  },
  "language_info": {
   "codemirror_mode": {
    "name": "ipython",
    "version": 3
   },
   "file_extension": ".py",
   "mimetype": "text/x-python",
   "name": "python",
   "nbconvert_exporter": "python",
   "pygments_lexer": "ipython3",
   "version": "3.9.16"
  }
 },
 "nbformat": 4,
 "nbformat_minor": 5
}
